{
 "cells": [
  {
   "cell_type": "code",
   "execution_count": 146,
   "metadata": {},
   "outputs": [
    {
     "output_type": "stream",
     "name": "stdout",
     "text": [
      "f14565c7dd80ac11f353f8f0604f9efeb7f97b83b55234e0ca605f78525ea5f7\n├── 04de61902c4200c769971ef2d3c96506cc921ebcf24105b512cefe8258a70e9c\n│   ├── bdd7e02c1fe954e745f0398f21fde249f5e4454dd03668f035a0cd767dbc8c4b\n│   │   ├── 4e85663296292c64e054f6f8da5ee54b2d79d8772c9882376c5bb94286aba10f\n│   │   └── 8ea325a290710856f06108c7e46c9fd5bb0dad6a62327c38ee0ce666269d2659\n│   └── 4ff33dc3c98d1e096f04041b51e0433626e677c00c2b32c0d074c6588eb9e465\n│       ├── 53f0388af8ec86fa546b65aebe4863efb42e3e5bbd9caf8aa0443cbc36dc02c2\n│       └── 9e60fa4697d7539e2a805d360c36e91bc271a3b15dd24b675b575789846d6d70\n└── e9c53cfc6db50a755da26cce7c8e27e71bcd2841c3b879e3120707d6d525fb15\n    ├── f7d6098f02016c2f5072b0d295c6bd14c946adee4bb4a6e32163a6c46b3e8c2d\n    │   ├── d497b5967bb4990b1be3d1fed9fa8de7b35b224ee6986223458228e8d3a93922\n    │   └── 54b3f57fb918fe8c8c78db603f8d400f6b2e114e4a97139f4b920e6af9c3a813\n    └── 43490598e2eb4f0c0fb73ede5a049892a5d6873e5f340fc77f716aabbb36185b\n        ├── 249bb9ce597f41be6bffdfed53aac1b38e0d340cc8edd3bb08fa7b3bbbf16bb6\n        └── 66223f1697dfc88371195b0b4ba676b56a650bf8f1e79c1dfee8dc6367e8f01e\n"
     ]
    }
   ],
   "source": [
    "import hashlib\n",
    "from bitarray.util import ba2int\n",
    "from merklelib import MerkleTree, beautify\n",
    "\n",
    "\n",
    "def sha256(preimage):\n",
    "    return hashlib.sha256(preimage).hexdigest()\n",
    "\n",
    "def zok_has(lhs, rhs):\n",
    "    return sha256\n",
    "\n",
    "def sha256_to_u32_array8(hash_str: str) -> list:\n",
    "    hex_hash = int(hash_str, 16)\n",
    "    byte_array = hex_hash.to_bytes(32, \"big\")\n",
    "    array_arrays = [byte_array[i:i + 4] for i in range(0, 32, 4)]\n",
    "    return [str(int.from_bytes(x, \"big\")) for x in array_arrays]\n",
    "    # unpadded = list(str(bin(int(hash_str, 16))[2:]))\n",
    "    # padded = \"\".join(map(str, [0] * (256 - len(unpadded)) + unpadded))\n",
    "    # array_arrays = [padded[i:i + 32] for i in range(0, 256, 32)]\n",
    "    # return [str(int(x, 2)) for x in array_arrays]\n",
    "    \n",
    "\n",
    "accounts = [\n",
    "    \"92b34907ec85874ab6faadaa1fd32b3e86c1211c8fb9350a8bf13bd5caf1ff29\",\n",
    "    \"5d18f5dbfb0469a7136a3f3f95f46b3b1dbf434e1f9d95574ed8d40f8a40d0f1\",\n",
    "    \"ad8dfd7d9441a9c44a796a319cf9a9cc80b056e06b7a3923cc20ce0c8ce1c4a9\",\n",
    "    \"2b0a27e9cf8c514a1f01f7b905d6646b066b86a40f87c8fad4277c35cf85eec2\",\n",
    "    \"369850511d58b5a40f57279d8ef1e18f84bfed2884ee463307a67077e4c75bf2\",\n",
    "    \"9f762e459a5c3c6130ddaa04efa3d9aaf29424e73cb079b4f99a651332b8935a\",\n",
    "    \"6760fd62081bbc67ae0320d61122e54871d026be124f41e11df2336077a93c39\",\n",
    "    \"5bd9416d7cb4ff4560398e9d6b242fc3aaccea9c456038dcfb548a9ad8593945\",\n",
    "]\n",
    "\n",
    "tree = MerkleTree(accounts, sha256)\n",
    "root = tree.merkle_root\n",
    "beautify(tree)\n",
    "    "
   ]
  },
  {
   "cell_type": "code",
   "execution_count": 147,
   "metadata": {},
   "outputs": [
    {
     "output_type": "execute_result",
     "data": {
      "text/plain": [
       "('8ea325a290710856f06108c7e46c9fd5bb0dad6a62327c38ee0ce666269d2659',\n",
       " ['8ea325a290710856f06108c7e46c9fd5bb0dad6a62327c38ee0ce666269d2659',\n",
       "  '4ff33dc3c98d1e096f04041b51e0433626e677c00c2b32c0d074c6588eb9e465',\n",
       "  'e9c53cfc6db50a755da26cce7c8e27e71bcd2841c3b879e3120707d6d525fb15'],\n",
       " 'f14565c7dd80ac11f353f8f0604f9efeb7f97b83b55234e0ca605f78525ea5f7')"
      ]
     },
     "metadata": {},
     "execution_count": 147
    }
   ],
   "source": [
    "leaf = tree.leaves[1].hash.hex()\n",
    "path = tree.get_proof(accounts[0]).hex_nodes\n",
    "(leaf, path, root)"
   ]
  },
  {
   "cell_type": "code",
   "execution_count": 148,
   "metadata": {},
   "outputs": [
    {
     "output_type": "stream",
     "name": "stdout",
     "text": [
      "zokrates compute-witness -a 4047857095 3716197393 4082366704 1615830782 3086580611 3042063584 3395313528 1381934583 2393056674 2423326806 4032891079 3832324053 3138235754 1647475768 3993822822 647833177 1 0 0 2393056674 2423326806 4032891079 3832324053 3138235754 1647475768 3993822822 647833177 1341341123 3381468681 1862534171 1373651766 652638144 204157632 3497313880 2394547301 3922017532 1840581237 1570925774 2089691111 466430017 3283646947 302450646 3576036117\n"
     ]
    }
   ],
   "source": [
    "unpacked_path = \" \".join([\" \".join(sha256_to_u32_array8(x)) for x in path])\n",
    "print(f\"zokrates compute-witness -a {' '.join(sha256_to_u32_array8(root))} {' '.join(sha256_to_u32_array8(leaf))} 1 0 0 {unpacked_path}\")\n"
   ]
  }
 ],
 "metadata": {
  "kernelspec": {
   "name": "python3",
   "display_name": "Python 3.9.7 64-bit ('blockchain-preprocessor')",
   "metadata": {
    "interpreter": {
     "hash": "850fa502db522de65576e4be539b0d94dc0853a7801c57bd4050a818773dc88b"
    }
   }
  },
  "language_info": {
   "codemirror_mode": {
    "name": "ipython",
    "version": 3
   },
   "file_extension": ".py",
   "mimetype": "text/x-python",
   "name": "python",
   "nbconvert_exporter": "python",
   "pygments_lexer": "ipython3",
   "version": "3.9.7-final"
  }
 },
 "nbformat": 4,
 "nbformat_minor": 2
}