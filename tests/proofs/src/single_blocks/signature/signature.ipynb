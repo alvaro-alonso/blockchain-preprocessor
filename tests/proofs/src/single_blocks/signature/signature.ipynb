{
 "cells": [
  {
   "cell_type": "code",
   "execution_count": 5,
   "metadata": {},
   "outputs": [
    {
     "name": "stdout",
     "output_type": "stream",
     "text": [
      "True\n"
     ]
    }
   ],
   "source": [
    "import hashlib\n",
    "\n",
    "from zokrates_pycrypto.curves import BabyJubJub\n",
    "from zokrates_pycrypto.eddsa import PrivateKey, PublicKey\n",
    "from zokrates_pycrypto.utils import write_signature_for_zokrates_cli\n",
    "\n",
    "if __name__ == \"__main__\":\n",
    "\n",
    "    raw_msg = \"This is my secret message\"\n",
    "    msg = hashlib.sha512(raw_msg.encode(\"utf-8\")).digest()\n",
    "\n",
    "    # sk = PrivateKey.from_rand()\n",
    "    # Seeded for debug purpose\n",
    "    key = 1997011358982923168928344992199991480689546837621580239342656433234255379025\n",
    "    sk = PrivateKey(key, curve=BabyJubJub)\n",
    "    sig = sk.sign(msg)\n",
    "\n",
    "    pk = PublicKey.from_private(sk)\n",
    "    is_verified = pk.verify(sig, msg)\n",
    "    print(is_verified)\n",
    "\n",
    "    path = 'zokrates_inputs.txt'\n",
    "    write_signature_for_zokrates_cli(pk, sig, msg, path)"
   ]
  },
  {
   "cell_type": "code",
   "execution_count": null,
   "metadata": {},
   "outputs": [],
   "source": []
  }
 ],
 "metadata": {
  "kernelspec": {
   "display_name": "blockchain-preprocessor",
   "language": "python",
   "name": "python3"
  },
  "language_info": {
   "codemirror_mode": {
    "name": "ipython",
    "version": 3
   },
   "file_extension": ".py",
   "mimetype": "text/x-python",
   "name": "python",
   "nbconvert_exporter": "python",
   "pygments_lexer": "ipython3",
   "version": "3.9.7"
  }
 },
 "nbformat": 4,
 "nbformat_minor": 2
}
